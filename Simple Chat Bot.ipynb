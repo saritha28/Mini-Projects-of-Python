{
 "cells": [
  {
   "cell_type": "code",
   "execution_count": null,
   "metadata": {},
   "outputs": [
    {
     "name": "stdout",
     "output_type": "stream",
     "text": [
      ">hello\n",
      "None\n",
      ">hi\n",
      "hi\n",
      ">how r u\n",
      "None\n",
      ">how are you\n",
      "fine\n"
     ]
    }
   ],
   "source": [
    "import nltk\n",
    "from nltk.chat.util import Chat, reflections\n",
    "\n",
    "# Define chatbot responses\n",
    "pairs = [\n",
    "    ['hi', ['hello', 'hi']],\n",
    "    ['how are you', ['good', 'fine']],\n",
    "]\n",
    "\n",
    "# Create chatbot instance\n",
    "chatbot = Chat(pairs, reflections)\n",
    "\n",
    "# Start chatting\n",
    "chatbot.converse()\n"
   ]
  },
  {
   "cell_type": "code",
   "execution_count": null,
   "metadata": {},
   "outputs": [],
   "source": []
  }
 ],
 "metadata": {
  "kernelspec": {
   "display_name": "Python 3",
   "language": "python",
   "name": "python3"
  },
  "language_info": {
   "codemirror_mode": {
    "name": "ipython",
    "version": 3
   },
   "file_extension": ".py",
   "mimetype": "text/x-python",
   "name": "python",
   "nbconvert_exporter": "python",
   "pygments_lexer": "ipython3",
   "version": "3.7.4"
  }
 },
 "nbformat": 4,
 "nbformat_minor": 2
}
