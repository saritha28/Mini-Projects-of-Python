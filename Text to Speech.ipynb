{
 "cells": [
  {
   "cell_type": "code",
   "execution_count": null,
   "metadata": {},
   "outputs": [],
   "source": [
    "!pip install pygame"
   ]
  },
  {
   "cell_type": "code",
   "execution_count": null,
   "metadata": {},
   "outputs": [],
   "source": [
    "!pip install tkinter"
   ]
  },
  {
   "cell_type": "code",
   "execution_count": null,
   "metadata": {},
   "outputs": [],
   "source": [
    "!pip install gtts"
   ]
  },
  {
   "cell_type": "code",
   "execution_count": null,
   "metadata": {},
   "outputs": [],
   "source": [
    "!pip install tempfile"
   ]
  },
  {
   "cell_type": "code",
   "execution_count": null,
   "metadata": {},
   "outputs": [],
   "source": [
    "!pip install os"
   ]
  },
  {
   "cell_type": "code",
   "execution_count": 17,
   "metadata": {},
   "outputs": [],
   "source": [
    "import tkinter as tk\n",
    "from tkinter import ttk\n",
    "from gtts import gTTS\n",
    "import tempfile\n",
    "import os\n",
    "import pygame"
   ]
  },
  {
   "cell_type": "code",
   "execution_count": 18,
   "metadata": {},
   "outputs": [],
   "source": [
    "import warnings\n",
    "warnings.filterwarnings('ignore')"
   ]
  },
  {
   "cell_type": "code",
   "execution_count": 19,
   "metadata": {},
   "outputs": [],
   "source": [
    "# Initialize pygame\n",
    "pygame.mixer.init()"
   ]
  },
  {
   "cell_type": "code",
   "execution_count": 20,
   "metadata": {},
   "outputs": [
    {
     "data": {
      "text/plain": [
       "''"
      ]
     },
     "execution_count": 20,
     "metadata": {},
     "output_type": "execute_result"
    }
   ],
   "source": [
    "# Create the main window\n",
    "root = tk.Tk()\n",
    "\n",
    "#geometry() is used to set the height and width of the window\n",
    "root.geometry(\"300x300\")\n",
    "\n",
    "#configure() is used to access window attributes\n",
    "root.configure(bg='ghost white') #bg is nothing but background color\n",
    "\n",
    "root.title(\"Text to Speech Converter\")"
   ]
  },
  {
   "cell_type": "code",
   "execution_count": 21,
   "metadata": {},
   "outputs": [],
   "source": [
    "# creating a text entry field\n",
    "text_label = tk.Label(root, text=\"Enter text\",font = 'arial 15 bold', bg ='white smoke',width='50')\n",
    "text_label.pack()\n",
    "text_entry = tk.Entry(root, width=50)\n",
    "text_entry.pack()"
   ]
  },
  {
   "cell_type": "code",
   "execution_count": 22,
   "metadata": {},
   "outputs": [],
   "source": [
    "# creating a language selection drop-down\n",
    "language_label = tk.Label(root, text=\"Select language\",font='arial 15 bold',bg='white smoke')\n",
    "language_label.pack()\n",
    "languages = [\"en\", \"fr\", \"es\", \"de\"]  # you can add more languages\n",
    "language_var = tk.StringVar()\n",
    "language_dropdown = ttk.Combobox(root, textvariable=language_var, values=languages)\n",
    "language_dropdown.pack()\n",
    "language_dropdown.set(\"en\")"
   ]
  },
  {
   "cell_type": "code",
   "execution_count": 23,
   "metadata": {},
   "outputs": [],
   "source": [
    "# Defining a function to convert text to speech\n",
    "def convert_to_speech():\n",
    "    text = text_entry.get()\n",
    "    language = language_var.get()\n",
    "    \n",
    "    # Create a gTTS object\n",
    "    tts = gTTS(text=text, lang=language, slow=False)\n",
    "    \n",
    "    # Saving the audio file in the temporary directory\n",
    "    with tempfile.NamedTemporaryFile(suffix=\".mp3\", delete=False) as temp_file:\n",
    "        temp_filename = temp_file.name\n",
    "        tts.save(temp_filename)\n",
    "    \n",
    "    # Next, play the audio file using pygame\n",
    "    pygame.mixer.music.load(temp_filename)\n",
    "    pygame.mixer.music.play()\n",
    "    "
   ]
  },
  {
   "cell_type": "code",
   "execution_count": 24,
   "metadata": {},
   "outputs": [],
   "source": [
    "# crating Buttons to play, reset and exit\n",
    "convert_button = tk.Button(root, text=\"Convert to Speech\", command=convert_to_speech, bg='Orange')\n",
    "convert_button.pack()\n"
   ]
  },
  {
   "cell_type": "code",
   "execution_count": 25,
   "metadata": {},
   "outputs": [],
   "source": [
    "# Run the GUI\n",
    "root.mainloop()\n"
   ]
  },
  {
   "cell_type": "code",
   "execution_count": null,
   "metadata": {},
   "outputs": [],
   "source": []
  }
 ],
 "metadata": {
  "kernelspec": {
   "display_name": "Python 3",
   "language": "python",
   "name": "python3"
  },
  "language_info": {
   "codemirror_mode": {
    "name": "ipython",
    "version": 3
   },
   "file_extension": ".py",
   "mimetype": "text/x-python",
   "name": "python",
   "nbconvert_exporter": "python",
   "pygments_lexer": "ipython3",
   "version": "3.7.4"
  }
 },
 "nbformat": 4,
 "nbformat_minor": 2
}
